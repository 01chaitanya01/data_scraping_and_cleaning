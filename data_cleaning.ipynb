{
 "cells": [
  {
   "cell_type": "code",
   "execution_count": 1,
   "id": "f58c8dc2-8933-4498-b56d-7241f3ebd089",
   "metadata": {},
   "outputs": [],
   "source": [
    "import pandas as pd"
   ]
  },
  {
   "cell_type": "code",
   "execution_count": 16,
   "id": "20de84de-8ada-4a07-8779-751d62b31068",
   "metadata": {},
   "outputs": [],
   "source": [
    "data = pd.read_csv(\"./Data/scraped_mobile_data.csv\")\n",
    "df = pd.DataFrame(data)"
   ]
  },
  {
   "cell_type": "code",
   "execution_count": 60,
   "id": "3c01f80b-5f1b-4e20-967a-1d2953879e35",
   "metadata": {},
   "outputs": [
    {
     "name": "stdout",
     "output_type": "stream",
     "text": [
      "                                       name                    price  \\\n",
      "0                POCO F6 5G (Black, 256 GB)  ₹31,999\\n₹35,99911% off   \n",
      "1             POCO F6 5G (Titanium, 256 GB)  ₹29,999\\n₹33,99911% off   \n",
      "2     Motorola G34 5G (Ocean Green, 128 GB)  ₹11,999\\n₹14,99920% off   \n",
      "3  Motorola G34 5G (Charcoal Black, 128 GB)  ₹11,999\\n₹14,99920% off   \n",
      "4      POCO M6 Pro 5G (Power Black, 128 GB)   ₹9,999\\n₹16,99941% off   \n",
      "\n",
      "                                            sizeInCm  \\\n",
      "0  12 GB RAM | 256 GB ROM\\n16.94 cm (6.67 inch) D...   \n",
      "1  8 GB RAM | 256 GB ROM\\n16.94 cm (6.67 inch) Di...   \n",
      "2  8 GB RAM | 128 GB ROM\\n16.51 cm (6.5 inch) HD+...   \n",
      "3  8 GB RAM | 128 GB ROM\\n16.51 cm (6.5 inch) HD+...   \n",
      "4  6 GB RAM | 128 GB ROM | Expandable Upto 1 TB\\n...   \n",
      "\n",
      "                                          sizeInInch  \n",
      "0  12 GB RAM | 256 GB ROM\\n16.94 cm (6.67 inch) D...  \n",
      "1  8 GB RAM | 256 GB ROM\\n16.94 cm (6.67 inch) Di...  \n",
      "2  8 GB RAM | 128 GB ROM\\n16.51 cm (6.5 inch) HD+...  \n",
      "3  8 GB RAM | 128 GB ROM\\n16.51 cm (6.5 inch) HD+...  \n",
      "4  6 GB RAM | 128 GB ROM | Expandable Upto 1 TB\\n...  \n"
     ]
    }
   ],
   "source": [
    "print(df.head())"
   ]
  },
  {
   "cell_type": "markdown",
   "id": "01305038-d601-4ede-a907-0f044591eb37",
   "metadata": {},
   "source": [
    "## Cleaning the Price column"
   ]
  },
  {
   "cell_type": "code",
   "execution_count": 62,
   "id": "fc4a8b13-3c22-4bfe-9b8d-a8abfe848b2f",
   "metadata": {},
   "outputs": [
    {
     "name": "stdout",
     "output_type": "stream",
     "text": [
      "0       31999\n",
      "1       29999\n",
      "2       11999\n",
      "3       11999\n",
      "4        9999\n",
      "        ...  \n",
      "1363     7999\n",
      "1364     7499\n",
      "1365     7999\n",
      "1366    58999\n",
      "1367     9099\n",
      "Name: price, Length: 1368, dtype: int64\n"
     ]
    }
   ],
   "source": [
    "df[\"price\"] = [(i.split(\"\\n\"))[0] for i in df[\"price\"]]\n",
    "df[\"price\"] = [i.replace(\"₹\", \" \") for i in df[\"price\"]]\n",
    "df[\"price\"] = [i.replace(\",\", \"\") for i in df[\"price\"]]\n",
    "\n",
    "df[\"price\"] = pd.to_numeric(df[\"price\"], errors='coerce') \n",
    "df[\"price\"] = df[\"price\"].fillna(0).astype(int)\n",
    "\n",
    "print(df[\"price\"])"
   ]
  },
  {
   "cell_type": "markdown",
   "id": "271402a3-5eb6-46e0-a8d9-f7a2d47ab032",
   "metadata": {},
   "source": [
    "## Transforming the SizeInCm column"
   ]
  },
  {
   "cell_type": "code",
   "execution_count": 139,
   "id": "8f996c68-caea-4cb5-8f89-088a4965801d",
   "metadata": {},
   "outputs": [
    {
     "name": "stdout",
     "output_type": "stream",
     "text": [
      "0       16.94\n",
      "1       16.94\n",
      "2       16.51\n",
      "3       16.51\n",
      "4       17.25\n",
      "        ...  \n",
      "1363    16.51\n",
      "1364    16.76\n",
      "1365    16.51\n",
      "1366    15.49\n",
      "1367    17.22\n",
      "Name: sizeInCm, Length: 1368, dtype: float64\n"
     ]
    }
   ],
   "source": [
    "df[\"sizeInCm\"] = df[\"sizeInCm\"].astype(str)\n",
    "\n",
    "df[\"sizeInCm\"] = df[\"sizeInCm\"].str.split(\"\\n\").str[1].str.split(\" \").str[0]\n",
    "\n",
    "# converting to float value\n",
    "df[\"sizeInCm\"] = pd.to_numeric(df[\"sizeInCm\"], errors='coerce').astype('float')\n",
    "\n",
    "print(df[\"sizeInCm\"])"
   ]
  },
  {
   "cell_type": "markdown",
   "id": "7377976e-53cd-4cab-a968-36a4748e493e",
   "metadata": {},
   "source": [
    "## Transforming the sizeInInch Column"
   ]
  },
  {
   "cell_type": "code",
   "execution_count": 142,
   "id": "aa65754e-499d-439d-85a0-fa5c7efc8d4a",
   "metadata": {},
   "outputs": [
    {
     "name": "stdout",
     "output_type": "stream",
     "text": [
      "0       6.67\n",
      "1       6.67\n",
      "2       6.50\n",
      "3       6.50\n",
      "4       6.79\n",
      "        ... \n",
      "1363    6.50\n",
      "1364    6.60\n",
      "1365    6.50\n",
      "1366    6.10\n",
      "1367    6.78\n",
      "Name: sizeInInch, Length: 1368, dtype: float64\n"
     ]
    }
   ],
   "source": [
    "df[\"sizeInInch\"] = df[\"sizeInInch\"].str.split(\"\\n\").str[1].str.split(\" \").str[2].str.replace(\"(\", \"\")\n",
    "\n",
    "# converting to float dataType\n",
    "df['sizeInInch'] = pd.to_numeric(df['sizeInInch'], errors='coerce').astype(\"float\")\n",
    "\n",
    "print(df['sizeInInch'])"
   ]
  },
  {
   "cell_type": "code",
   "execution_count": 143,
   "id": "4d5caa2b-80df-4a25-a283-1ff2f45bbc31",
   "metadata": {},
   "outputs": [
    {
     "data": {
      "text/html": [
       "<div>\n",
       "<style scoped>\n",
       "    .dataframe tbody tr th:only-of-type {\n",
       "        vertical-align: middle;\n",
       "    }\n",
       "\n",
       "    .dataframe tbody tr th {\n",
       "        vertical-align: top;\n",
       "    }\n",
       "\n",
       "    .dataframe thead th {\n",
       "        text-align: right;\n",
       "    }\n",
       "</style>\n",
       "<table border=\"1\" class=\"dataframe\">\n",
       "  <thead>\n",
       "    <tr style=\"text-align: right;\">\n",
       "      <th></th>\n",
       "      <th>name</th>\n",
       "      <th>price</th>\n",
       "      <th>sizeInCm</th>\n",
       "      <th>sizeInInch</th>\n",
       "    </tr>\n",
       "  </thead>\n",
       "  <tbody>\n",
       "    <tr>\n",
       "      <th>0</th>\n",
       "      <td>POCO F6 5G (Black, 256 GB)</td>\n",
       "      <td>31999</td>\n",
       "      <td>16.94</td>\n",
       "      <td>6.67</td>\n",
       "    </tr>\n",
       "    <tr>\n",
       "      <th>1</th>\n",
       "      <td>POCO F6 5G (Titanium, 256 GB)</td>\n",
       "      <td>29999</td>\n",
       "      <td>16.94</td>\n",
       "      <td>6.67</td>\n",
       "    </tr>\n",
       "    <tr>\n",
       "      <th>2</th>\n",
       "      <td>Motorola G34 5G (Ocean Green, 128 GB)</td>\n",
       "      <td>11999</td>\n",
       "      <td>16.51</td>\n",
       "      <td>6.50</td>\n",
       "    </tr>\n",
       "    <tr>\n",
       "      <th>3</th>\n",
       "      <td>Motorola G34 5G (Charcoal Black, 128 GB)</td>\n",
       "      <td>11999</td>\n",
       "      <td>16.51</td>\n",
       "      <td>6.50</td>\n",
       "    </tr>\n",
       "    <tr>\n",
       "      <th>4</th>\n",
       "      <td>POCO M6 Pro 5G (Power Black, 128 GB)</td>\n",
       "      <td>9999</td>\n",
       "      <td>17.25</td>\n",
       "      <td>6.79</td>\n",
       "    </tr>\n",
       "  </tbody>\n",
       "</table>\n",
       "</div>"
      ],
      "text/plain": [
       "                                       name  price  sizeInCm  sizeInInch\n",
       "0                POCO F6 5G (Black, 256 GB)  31999     16.94        6.67\n",
       "1             POCO F6 5G (Titanium, 256 GB)  29999     16.94        6.67\n",
       "2     Motorola G34 5G (Ocean Green, 128 GB)  11999     16.51        6.50\n",
       "3  Motorola G34 5G (Charcoal Black, 128 GB)  11999     16.51        6.50\n",
       "4      POCO M6 Pro 5G (Power Black, 128 GB)   9999     17.25        6.79"
      ]
     },
     "execution_count": 143,
     "metadata": {},
     "output_type": "execute_result"
    }
   ],
   "source": [
    "df.head()"
   ]
  },
  {
   "cell_type": "markdown",
   "id": "d9be398c",
   "metadata": {},
   "source": [
    "## Removing the duplicate data"
   ]
  },
  {
   "cell_type": "markdown",
   "id": "d0b348cf",
   "metadata": {},
   "source": [
    "Our data contains a large number of duplicates due to the scraping process getting stuck on a single page, causing excessive repetition of data from that one source."
   ]
  },
  {
   "cell_type": "code",
   "execution_count": 9,
   "id": "133bd1ce",
   "metadata": {},
   "outputs": [
    {
     "data": {
      "text/plain": [
       "0       False\n",
       "1       False\n",
       "2       False\n",
       "3       False\n",
       "4       False\n",
       "        ...  \n",
       "1363     True\n",
       "1364     True\n",
       "1365     True\n",
       "1366     True\n",
       "1367     True\n",
       "Length: 1368, dtype: bool"
      ]
     },
     "execution_count": 9,
     "metadata": {},
     "output_type": "execute_result"
    }
   ],
   "source": [
    "# finding the duplicate\n",
    "df.duplicated()"
   ]
  },
  {
   "cell_type": "code",
   "execution_count": 10,
   "id": "a96e5431",
   "metadata": {},
   "outputs": [],
   "source": [
    "# removing all the duplicate data\n",
    "df.drop_duplicates(inplace= True)"
   ]
  },
  {
   "cell_type": "markdown",
   "id": "6e51fd56",
   "metadata": {},
   "source": [
    "Saving data in CSV file"
   ]
  },
  {
   "cell_type": "code",
   "execution_count": 13,
   "id": "3734c7dc-222e-49d9-af3c-eac9f8d988a0",
   "metadata": {},
   "outputs": [],
   "source": [
    "df.to_csv(\"./Data/cleaned_mobile_data.csv\", index=False)"
   ]
  }
 ],
 "metadata": {
  "kernelspec": {
   "display_name": "Python 3 (ipykernel)",
   "language": "python",
   "name": "python3"
  },
  "language_info": {
   "codemirror_mode": {
    "name": "ipython",
    "version": 3
   },
   "file_extension": ".py",
   "mimetype": "text/x-python",
   "name": "python",
   "nbconvert_exporter": "python",
   "pygments_lexer": "ipython3",
   "version": "3.10.12"
  }
 },
 "nbformat": 4,
 "nbformat_minor": 5
}
